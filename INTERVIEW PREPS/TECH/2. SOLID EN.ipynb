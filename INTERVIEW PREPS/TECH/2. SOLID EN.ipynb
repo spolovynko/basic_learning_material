{
 "cells": [
  {
   "cell_type": "markdown",
   "metadata": {},
   "source": [
    "# SOLID Principles Explained\n",
    "\n",
    "The SOLID principles are a set of design principles aimed at making software more maintainable, scalable, and robust. These principles are especially valuable in object-oriented programming and guide developers in structuring their code effectively."
   ]
  },
  {
   "cell_type": "markdown",
   "metadata": {},
   "source": [
    "\n",
    "\n",
    "## 1. Single Responsibility Principle (SRP)\n",
    "- **Definition**: A class should have only one reason to change, meaning it should only have one responsibility.\n",
    "- **Explanation**: By limiting a class to a single responsibility, the code becomes easier to understand and modify. This avoids coupling unrelated functionalities."
   ]
  },
  {
   "cell_type": "code",
   "execution_count": 1,
   "metadata": {},
   "outputs": [
    {
     "name": "stdout",
     "output_type": "stream",
     "text": [
      "Report: Sales Data\n"
     ]
    }
   ],
   "source": [
    "class Report:\n",
    "    def __init__(self, data):\n",
    "        self.data = data\n",
    "\n",
    "    def generate(self):\n",
    "        return f\"Report: {self.data}\"\n",
    "\n",
    "class ReportPrinter:\n",
    "    @staticmethod\n",
    "    def print_report(report):\n",
    "        print(report)\n",
    "\n",
    "# Usage\n",
    "report = Report(\"Sales Data\")\n",
    "ReportPrinter.print_report(report.generate())"
   ]
  },
  {
   "cell_type": "markdown",
   "metadata": {},
   "source": [
    "# 2. Open/Closed Principle (OCP)\n",
    "- **Definition**: Software entities (classes, modules, functions, etc.) should be open for extension but closed for modification.\n",
    "- **Explanation**: You should be able to add new functionality without altering existing code, promoting extensibility and reducing the risk of introducing bugs."
   ]
  },
  {
   "cell_type": "code",
   "execution_count": 2,
   "metadata": {},
   "outputs": [
    {
     "name": "stdout",
     "output_type": "stream",
     "text": [
      "90.0\n"
     ]
    }
   ],
   "source": [
    "class Discount:\n",
    "    def calculate(self, amount):\n",
    "        raise NotImplementedError(\"Subclasses must implement this method\")\n",
    "\n",
    "class SeasonalDiscount(Discount):\n",
    "    def calculate(self, amount):\n",
    "        return amount * 0.9\n",
    "\n",
    "class HolidayDiscount(Discount):\n",
    "    def calculate(self, amount):\n",
    "        return amount * 0.8\n",
    "\n",
    "# Usage\n",
    "discount = SeasonalDiscount()\n",
    "print(discount.calculate(100))  # Outputs: 90"
   ]
  },
  {
   "cell_type": "markdown",
   "metadata": {},
   "source": [
    "# 3. Liskov Substitution Principle (LSP)\n",
    "- **Definition**: Objects of a superclass should be replaceable with objects of a subclass without affecting the correctness of the program.\n",
    "- **Explanation**: Subclasses must adhere to the behavior expected by their superclass."
   ]
  },
  {
   "cell_type": "code",
   "execution_count": 3,
   "metadata": {},
   "outputs": [
    {
     "name": "stdout",
     "output_type": "stream",
     "text": [
      "Flying\n"
     ]
    }
   ],
   "source": [
    "class Bird:\n",
    "    def fly(self):\n",
    "        print(\"Flying\")\n",
    "\n",
    "class Sparrow(Bird):\n",
    "    pass\n",
    "\n",
    "class Penguin(Bird):\n",
    "    def fly(self):\n",
    "        raise NotImplementedError(\"Penguins can't fly\")\n",
    "\n",
    "# Usage\n",
    "def make_bird_fly(bird):\n",
    "    bird.fly()\n",
    "\n",
    "sparrow = Sparrow()\n",
    "penguin = Penguin()\n",
    "\n",
    "make_bird_fly(sparrow)  # Works\n",
    "# make_bird_fly(penguin)  # Breaks the principle"
   ]
  },
  {
   "cell_type": "markdown",
   "metadata": {},
   "source": [
    "# 4. Interface Segregation Principle (ISP)\n",
    "- **Definition**: A class should not be forced to implement interfaces it does not use.\n",
    "- **Explanation**: Create smaller, more specific interfaces rather than one large general-purpose interface."
   ]
  },
  {
   "cell_type": "code",
   "execution_count": 4,
   "metadata": {},
   "outputs": [],
   "source": [
    "class Printer:\n",
    "    def print(self):\n",
    "        pass\n",
    "\n",
    "class Scanner:\n",
    "    def scan(self):\n",
    "        pass\n",
    "\n",
    "class AllInOnePrinter(Printer, Scanner):\n",
    "    def print(self):\n",
    "        print(\"Printing...\")\n",
    "\n",
    "    def scan(self):\n",
    "        print(\"Scanning...\")\n",
    "\n",
    "class SimplePrinter(Printer):\n",
    "    def print(self):\n",
    "        print(\"Printing...\")"
   ]
  },
  {
   "cell_type": "markdown",
   "metadata": {},
   "source": [
    "# 5. Dependency Inversion Principle (DIP)\n",
    "- **Definition**: High-level modules should not depend on low-level modules; both should depend on abstractions. Abstractions should not depend on details.\n",
    "- **Explanation**: This promotes loose coupling and makes the system more adaptable to changes."
   ]
  },
  {
   "cell_type": "code",
   "execution_count": 5,
   "metadata": {},
   "outputs": [
    {
     "name": "stdout",
     "output_type": "stream",
     "text": [
      "User Input\n"
     ]
    }
   ],
   "source": [
    "class Keyboard:\n",
    "    def get_input(self):\n",
    "        return \"User Input\"\n",
    "\n",
    "class Monitor:\n",
    "    def display(self, content):\n",
    "        print(content)\n",
    "\n",
    "class Computer:\n",
    "    def __init__(self, input_device, output_device):\n",
    "        self.input_device = input_device\n",
    "        self.output_device = output_device\n",
    "\n",
    "    def operate(self):\n",
    "        data = self.input_device.get_input()\n",
    "        self.output_device.display(data)\n",
    "\n",
    "# Usage\n",
    "keyboard = Keyboard()\n",
    "monitor = Monitor()\n",
    "pc = Computer(keyboard, monitor)\n",
    "pc.operate()"
   ]
  },
  {
   "cell_type": "markdown",
   "metadata": {},
   "source": [
    "# How Do You Ensure You Follow the SOLID Principles Daily?\n",
    "When asked this question in a technical interview, it's important to provide a structured and clear response, showcasing both your theoretical understanding and practical application of the SOLID principles. Here's a professional response:\n",
    "\n",
    "## 1. Demonstrate Your Understanding of SOLID Principles\n",
    "Start by briefly explaining that SOLID principles are guidelines for designing maintainable, scalable, and robust software. Emphasize that adhering to these principles reduces bugs, simplifies testing, and makes it easier to adapt to changes.\n",
    "\n",
    "## 2. Explain Your Daily Practices\n",
    "Discuss concrete steps you take in your daily work to ensure adherence to SOLID:\n",
    "\n",
    "#### a) Planning and Designing\n",
    "\"Before writing code, I make sure I fully understand the functional and non-functional requirements. I then divide responsibilities to respect the Single Responsibility Principle (SRP).\"\n",
    "\"I use tools like UML diagrams to visualize and validate my designs, ensuring they follow principles like DIP and ISP.\"\n",
    "#### b) Regular Refactoring\n",
    "\"I frequently review both my code and my team’s code to identify any violations of SOLID principles, such as classes with too many responsibilities or tightly coupled modules.\"\n",
    "\"I actively refactor code to separate responsibilities and decouple modules when needed.\"\n",
    "#### c) Testing and Validation\n",
    "\"I write unit tests to ensure that my classes behave as expected. For example, I test that subclasses can replace parent classes without breaking functionality (LSP).\"\n",
    "\"Tests also help me ensure that local changes don't inadvertently affect other parts of the system.\"\n",
    "## 3. Provide Practical Examples\n",
    "Illustrate your experience with examples from your projects:\n",
    "\n",
    "SRP:\n",
    "\"In a recent project, I refactored a class Order by extracting validation logic into a separate OrderValidator class. This separation made the Order class easier to maintain and extend.\"\n",
    "DIP:\n",
    "\"I used dependency injection to decouple a logging service. By defining an abstraction (ILogger) and injecting implementations (FileLogger, CloudLogger), I made it easy to switch or add logging mechanisms without changing existing code.\"\n",
    "## 4. Mention Tools and Best Practices\n",
    "\"I use frameworks and tools that promote SOLID principles, like dependency injection frameworks in Python or Java.\"\n",
    "\"Code reviews and linters also help me identify potential violations of these principles.\"\n",
    "## 5. Emphasize Balance and Pragmatism\n",
    "\"It's crucial to balance adherence to SOLID principles with practical constraints. For example, creating multiple interfaces to follow ISP might be overkill for a small or simple application. I always aim for pragmatic and scalable solutions.\"\n",
    "Sample Response for an Interview\n",
    "To ensure I adhere to the SOLID principles daily, I start by planning and defining responsibilities clearly (SRP). I apply dependency injection and abstractions to ensure my modules are decoupled (DIP), and I write unit tests to validate that my code respects contracts like substitutability (LSP). Regular code reviews and refactoring help me maintain code quality, and I always prioritize clarity and maintainability while avoiding unnecessary complexity. For example, in one project, I used the Open/Closed Principle (OCP) by implementing new payment methods through inheritance without modifying the core logic."
   ]
  },
  {
   "cell_type": "code",
   "execution_count": 3,
   "metadata": {},
   "outputs": [],
   "source": [
    "def revenue(money, buy_rate, sell_rate):\n",
    "    bought = money * buy_rate\n",
    "    sold = money * sell_rate\n",
    "    result  = sold - bought\n",
    "    return round(result,3)\n",
    "\n"
   ]
  },
  {
   "cell_type": "code",
   "execution_count": 12,
   "metadata": {},
   "outputs": [
    {
     "data": {
      "text/plain": [
       "14520000.0"
      ]
     },
     "execution_count": 12,
     "metadata": {},
     "output_type": "execute_result"
    }
   ],
   "source": [
    "revenue(\n",
    "    money=100_000_000,\n",
    "    buy_rate=0.9748,\n",
    "    sell_rate=1.12\n",
    ")"
   ]
  },
  {
   "cell_type": "code",
   "execution_count": null,
   "metadata": {},
   "outputs": [],
   "source": []
  }
 ],
 "metadata": {
  "kernelspec": {
   "display_name": "Python 3",
   "language": "python",
   "name": "python3"
  },
  "language_info": {
   "codemirror_mode": {
    "name": "ipython",
    "version": 3
   },
   "file_extension": ".py",
   "mimetype": "text/x-python",
   "name": "python",
   "nbconvert_exporter": "python",
   "pygments_lexer": "ipython3",
   "version": "3.11.5"
  }
 },
 "nbformat": 4,
 "nbformat_minor": 2
}
