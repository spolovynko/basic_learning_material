{
 "cells": [
  {
   "cell_type": "markdown",
   "metadata": {},
   "source": [
    "\n",
    "# Principes SOLID Expliqués\n",
    "\n",
    "Les principes SOLID sont un ensemble de principes de conception visant à rendre le logiciel plus maintenable, évolutif et robuste. Ces principes sont particulièrement précieux en programmation orientée objet et guident les développeurs dans la structuration efficace de leur code."
   ]
  },
  {
   "cell_type": "markdown",
   "metadata": {},
   "source": [
    "## 1. Principe de Responsabilité Unique (SRP)\n",
    "- **Définition** : Une classe ne doit avoir qu'une seule raison de changer, ce qui signifie qu'elle ne doit avoir qu'une seule responsabilité.\n",
    "- **Explication** : En limitant une classe à une seule responsabilité, le code devient plus facile à comprendre et à modifier. Cela évite le couplage de fonctionnalités non liées."
   ]
  },
  {
   "cell_type": "code",
   "execution_count": 3,
   "metadata": {},
   "outputs": [
    {
     "name": "stdout",
     "output_type": "stream",
     "text": [
      "Rapport : Données de vente\n"
     ]
    }
   ],
   "source": [
    "class Report:\n",
    "    def __init__(self, data):\n",
    "        self.data = data\n",
    "\n",
    "    def generate(self):\n",
    "        return f\"Rapport : {self.data}\"\n",
    "\n",
    "class ReportPrinter:\n",
    "    @staticmethod\n",
    "    def print_report(report):\n",
    "        print(report)\n",
    "\n",
    "# Usage\n",
    "report = Report(\"Données de vente\")\n",
    "ReportPrinter.print_report(report.generate())"
   ]
  },
  {
   "cell_type": "markdown",
   "metadata": {},
   "source": [
    "## 2. Principe Ouvert/Fermé (OCP)\n",
    "- **Définition** : Les entités logicielles (classes, modules, fonctions, etc.) doivent être ouvertes à l'extension mais fermées à la modification.\n",
    "- **Explication** : Vous devriez pouvoir ajouter de nouvelles fonctionnalités sans modifier le code existant, favorisant ainsi l'extensibilité et réduisant les risques d'introduction de bogues."
   ]
  },
  {
   "cell_type": "code",
   "execution_count": 6,
   "metadata": {},
   "outputs": [
    {
     "name": "stdout",
     "output_type": "stream",
     "text": [
      "90.0\n"
     ]
    }
   ],
   "source": [
    "class Discount:\n",
    "    def calculate(self, amount):\n",
    "        raise NotImplementedError(\"Les sous-classes doivent implémenter cette méthode\")\n",
    "\n",
    "class SeasonalDiscount(Discount):\n",
    "    def calculate(self, amount):\n",
    "        return amount * 0.9\n",
    "\n",
    "class HolidayDiscount(Discount):\n",
    "    def calculate(self, amount):\n",
    "        return amount * 0.8\n",
    "\n",
    "# Usage\n",
    "discount = SeasonalDiscount()\n",
    "print(discount.calculate(100))  # Résultat : 90"
   ]
  },
  {
   "cell_type": "markdown",
   "metadata": {},
   "source": [
    "# 3. Principe de Substitution de Liskov (LSP)\n",
    "- **Définition** : Les objets d'une classe parent doivent pouvoir être remplacés par ceux d'une classe enfant sans affecter la correction du programme.\n",
    "- **Explication** : Les sous-classes doivent respecter le comportement attendu par leur classe parent."
   ]
  },
  {
   "cell_type": "code",
   "execution_count": 9,
   "metadata": {},
   "outputs": [
    {
     "name": "stdout",
     "output_type": "stream",
     "text": [
      "Voler\n"
     ]
    }
   ],
   "source": [
    "class Bird:\n",
    "    def fly(self):\n",
    "        print(\"Voler\")\n",
    "\n",
    "class Sparrow(Bird):\n",
    "    pass\n",
    "\n",
    "class Penguin(Bird):\n",
    "    def fly(self):\n",
    "        raise NotImplementedError(\"Les pingouins ne peuvent pas voler\")\n",
    "\n",
    "# Usage\n",
    "def make_bird_fly(bird):\n",
    "    bird.fly()\n",
    "\n",
    "sparrow = Sparrow()\n",
    "penguin = Penguin()\n",
    "\n",
    "make_bird_fly(sparrow)  # Fonctionne\n",
    "# make_bird_fly(penguin)  # Brise le principe"
   ]
  },
  {
   "cell_type": "markdown",
   "metadata": {},
   "source": [
    "## 4. Principe de Ségrégation des Interfaces (ISP)\n",
    "- **Définition** : Une classe ne doit pas être obligée d'implémenter des interfaces qu'elle n'utilise pas.\n",
    "- **Explication** : Créez des interfaces plus petites et plus spécifiques plutôt qu'une seule interface généraliste."
   ]
  },
  {
   "cell_type": "code",
   "execution_count": 10,
   "metadata": {},
   "outputs": [],
   "source": [
    "class Printer:\n",
    "    def print(self):\n",
    "        pass\n",
    "\n",
    "class Scanner:\n",
    "    def scan(self):\n",
    "        pass\n",
    "\n",
    "class AllInOnePrinter(Printer, Scanner):\n",
    "    def print(self):\n",
    "        print(\"Impression...\")\n",
    "\n",
    "    def scan(self):\n",
    "        print(\"Numérisation...\")\n",
    "\n",
    "class SimplePrinter(Printer):\n",
    "    def print(self):\n",
    "        print(\"Impression...\")\n"
   ]
  },
  {
   "cell_type": "markdown",
   "metadata": {},
   "source": [
    "## 5. Principe d'Inversion des Dépendances (DIP)\n",
    "- **Définition** : Les modules de haut niveau ne doivent pas dépendre des modules de bas niveau ; les deux doivent dépendre d'abstractions. Les abstractions ne doivent pas dépendre des détails.\n",
    "- **Explication** : Cela favorise un couplage faible et rend le système plus adaptable aux changements."
   ]
  },
  {
   "cell_type": "code",
   "execution_count": 11,
   "metadata": {},
   "outputs": [
    {
     "name": "stdout",
     "output_type": "stream",
     "text": [
      "Entrée utilisateur\n"
     ]
    }
   ],
   "source": [
    "class Keyboard:\n",
    "    def get_input(self):\n",
    "        return \"Entrée utilisateur\"\n",
    "\n",
    "class Monitor:\n",
    "    def display(self, content):\n",
    "        print(content)\n",
    "\n",
    "class Computer:\n",
    "    def __init__(self, input_device, output_device):\n",
    "        self.input_device = input_device\n",
    "        self.output_device = output_device\n",
    "\n",
    "    def operate(self):\n",
    "        data = self.input_device.get_input()\n",
    "        self.output_device.display(data)\n",
    "\n",
    "# Usage\n",
    "keyboard = Keyboard()\n",
    "monitor = Monitor()\n",
    "pc = Computer(keyboard, monitor)\n",
    "pc.operate()\n"
   ]
  },
  {
   "cell_type": "markdown",
   "metadata": {},
   "source": [
    "# Commnet utiliser SOLID\n",
    "\n",
    "\n",
    "## 1. Montrer votre compréhension des principes SOLID\n",
    "Commencez par expliquer brièvement que les principes SOLID sont des lignes directrices permettant de concevoir des logiciels maintenables, évolutifs et robustes. Mentionnez que leur respect réduit les bugs, facilite les évolutions et simplifie les tests.\n",
    "\n",
    "## 2. Expliquer votre méthode de travail quotidienne\n",
    "Insistez sur des points concrets que vous appliquez régulièrement dans vos projets :\n",
    "\n",
    "#### a) Planification et conception en amont\n",
    "\"Avant de coder, je m'assure de bien comprendre les besoins fonctionnels et non-fonctionnels. Cela inclut de diviser les responsabilités dès le départ pour respecter le principe de responsabilité unique (SRP).\"\n",
    "\"J'utilise des diagrammes UML, comme des diagrammes de classes ou des diagrammes de séquence, pour visualiser et valider la conception.\"\n",
    "#### b) Refactorisation continue\n",
    "\"Je vérifie régulièrement mon code et celui de mes collègues pour identifier les violations des principes SOLID, comme des classes trop complexes ou fortement couplées.\"\n",
    "\"Lorsque je trouve des responsabilités multiples dans une classe, je la divise en plusieurs classes ou modules.\"\n",
    "#### c) Tests et validation\n",
    "\"J'écris des tests unitaires qui assurent que les objets de mes classes respectent leurs contrats (par exemple, pour le LSP, les sous-classes doivent se comporter comme des classes parentes).\"\n",
    "\"Les tests permettent aussi de garantir que des modifications locales n’affectent pas le reste du système.\"\n",
    "## 3. Donner des exemples pratiques\n",
    "Citez des exemples concrets que vous avez rencontrés ou que vous avez implémentés dans vos projets :\n",
    "\n",
    "SRP :\n",
    "\"Dans un projet récent, j'ai séparé la logique métier d'une classe Order en une classe distincte OrderValidator pour mieux gérer les validations. Cela a rendu la classe Order plus claire et facile à maintenir.\"\n",
    "DIP :\n",
    "\"J'ai utilisé l'injection de dépendances pour remplacer facilement un service de journalisation local par un service cloud dans une application. Cela m'a permis de modifier le comportement sans toucher au code existant.\"\n",
    "## 4. Mentionner les outils et bonnes pratiques\n",
    "\"J’utilise des frameworks et outils qui encouragent ces principes, comme les frameworks d’injection de dépendances en Python ou Java.\"\n",
    "\"Les revues de code en équipe et les linters aident également à identifier les violations potentielles des principes SOLID.\"\n",
    "## 5. Insister sur l’équilibre et le pragmatisme\n",
    "Il est essentiel de trouver un équilibre. Les principes SOLID ne doivent pas conduire à une sur-ingénierie. Par exemple, dans un projet avec des besoins simples, créer plusieurs interfaces pour respecter ISP peut parfois être exagéré.\"\n",
    "Réponse synthétique pour un entretien\n",
    "\"Pour garantir que je respecte les principes SOLID au quotidien, je m'assure de bien comprendre et de planifier les responsabilités de chaque classe avant de coder (SRP). J’utilise des pratiques comme l’injection de dépendances (DIP) et le polymorphisme pour rendre mes systèmes extensibles (OCP). Je valide régulièrement mon code avec des tests unitaires pour garantir que mes classes et mes sous-classes respectent leurs contrats (LSP). Enfin, je collabore avec mes collègues via des revues de code et des sessions de refactorisation pour détecter et corriger les éventuelles violations de ces principes."
   ]
  }
 ],
 "metadata": {
  "kernelspec": {
   "display_name": "Python 3",
   "language": "python",
   "name": "python3"
  },
  "language_info": {
   "codemirror_mode": {
    "name": "ipython",
    "version": 3
   },
   "file_extension": ".py",
   "mimetype": "text/x-python",
   "name": "python",
   "nbconvert_exporter": "python",
   "pygments_lexer": "ipython3",
   "version": "3.11.5"
  }
 },
 "nbformat": 4,
 "nbformat_minor": 2
}
