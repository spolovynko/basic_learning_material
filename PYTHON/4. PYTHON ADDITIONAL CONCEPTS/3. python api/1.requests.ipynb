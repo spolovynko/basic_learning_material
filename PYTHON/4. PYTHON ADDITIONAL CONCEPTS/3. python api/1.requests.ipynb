{
 "cells": [
  {
   "cell_type": "code",
   "execution_count": 11,
   "metadata": {},
   "outputs": [
    {
     "name": "stdout",
     "output_type": "stream",
     "text": [
      "<Response [200]>\n",
      "{\"data\":{\"id\":2,\"email\":\"janet.weaver@reqres.in\",\"first_name\":\"Janet\",\"last_name\":\"Weaver\",\"avatar\":\"https://reqres.in/img/faces/2-image.jpg\"},\"support\":{\"url\":\"https://contentcaddy.io?utm_source=reqres&utm_medium=json&utm_campaign=referral\",\"text\":\"Tired of writing endless social media content? Let Content Caddy generate it for you.\"}}\n",
      "Janet\n"
     ]
    }
   ],
   "source": [
    "import requests\n",
    "\n",
    "# r = requests.get('https://eo72xv8i0kbisnq.m.pipedream.net')\n",
    "r = requests.get('https://reqres.in//api/users/2')\n",
    "print(r)\n",
    "print(r.text)\n",
    "json_data = r.json()\n",
    "print(json_data['data']['first_name'])"
   ]
  },
  {
   "cell_type": "code",
   "execution_count": 15,
   "metadata": {},
   "outputs": [],
   "source": [
    "payload ={'first' : 'one', 'second' : 'two'}\n",
    "r = requests.get('https://eo72xv8i0kbisnq.m.pipedream.net', params=payload)\n"
   ]
  },
  {
   "cell_type": "code",
   "execution_count": 16,
   "metadata": {},
   "outputs": [],
   "source": [
    "headers = {'my_token':'abcdefgef'}\n",
    "r = requests.get('https://eo72xv8i0kbisnq.m.pipedream.net',headers=headers)"
   ]
  },
  {
   "cell_type": "code",
   "execution_count": 17,
   "metadata": {},
   "outputs": [],
   "source": [
    "r = requests.post('https://eo72xv8i0kbisnq.m.pipedream.net')"
   ]
  },
  {
   "cell_type": "code",
   "execution_count": 18,
   "metadata": {},
   "outputs": [],
   "source": [
    "r = requests.delete('https://eo72xv8i0kbisnq.m.pipedream.net')"
   ]
  },
  {
   "cell_type": "code",
   "execution_count": 19,
   "metadata": {},
   "outputs": [],
   "source": [
    "r = requests.patch('https://eo72xv8i0kbisnq.m.pipedream.net')"
   ]
  },
  {
   "cell_type": "code",
   "execution_count": 20,
   "metadata": {},
   "outputs": [],
   "source": [
    "r = requests.put('https://eo72xv8i0kbisnq.m.pipedream.net')"
   ]
  },
  {
   "cell_type": "code",
   "execution_count": null,
   "metadata": {},
   "outputs": [],
   "source": [
    "payload = {'name':'Anthony','job':'pilot'}\n",
    "r = requests.get('https://reqres.in/api/users/2')\n"
   ]
  }
 ],
 "metadata": {
  "kernelspec": {
   "display_name": "Python 3",
   "language": "python",
   "name": "python3"
  },
  "language_info": {
   "codemirror_mode": {
    "name": "ipython",
    "version": 3
   },
   "file_extension": ".py",
   "mimetype": "text/x-python",
   "name": "python",
   "nbconvert_exporter": "python",
   "pygments_lexer": "ipython3",
   "version": "3.12.8"
  }
 },
 "nbformat": 4,
 "nbformat_minor": 2
}
